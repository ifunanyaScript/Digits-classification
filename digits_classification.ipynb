{
 "cells": [
  {
   "cell_type": "code",
   "execution_count": 1,
   "id": "cb9f6160",
   "metadata": {},
   "outputs": [],
   "source": [
    "# Import packages!\n",
    "import torch\n",
    "import torch.nn as nn\n",
    "import torchvision\n",
    "import torchvision.transforms as transforms\n",
    "import matplotlib.pyplot as plt"
   ]
  },
  {
   "cell_type": "code",
   "execution_count": 2,
   "id": "e6222d28",
   "metadata": {},
   "outputs": [],
   "source": [
    "# Device config.\n",
    "device = torch.device('cuda' if torch.cuda.is_available() else 'cpu')"
   ]
  },
  {
   "cell_type": "code",
   "execution_count": 10,
   "id": "5916c0e6",
   "metadata": {},
   "outputs": [],
   "source": [
    "# Hyperparameters!\n",
    "input_size = 784 # 28*28, image size\n",
    "hidden_size = 100\n",
    "num_classes = 10\n",
    "epochs = 15\n",
    "batch_size = 100\n",
    "learning_rate = 0.001"
   ]
  },
  {
   "cell_type": "code",
   "execution_count": 11,
   "id": "45c10553",
   "metadata": {},
   "outputs": [],
   "source": [
    "# MNIST!\n",
    "train_data = torchvision.datasets.MNIST(root='.\\data', train=True, \n",
    "                                        transform=transforms.ToTensor(), download=True)\n",
    "test_data = torchvision.datasets.MNIST(root='.\\data', train=False, \n",
    "                                        transform=transforms.ToTensor())\n",
    "train_loader = torch.utils.data.DataLoader(dataset=train_data, batch_size=batch_size, shuffle=True)\n",
    "test_loader = torch.utils.data.DataLoader(dataset=test_data, batch_size=batch_size, shuffle=False)"
   ]
  },
  {
   "cell_type": "code",
   "execution_count": 12,
   "id": "c1e90ddf",
   "metadata": {},
   "outputs": [
    {
     "data": {
      "image/png": "[encoded data removed]",
      "text/plain": [
       "<Figure size 432x288 with 6 Axes>"
      ]
     },
     "metadata": {
      "needs_background": "light"
     },
     "output_type": "display_data"
    }
   ],
   "source": [
    "examples = iter(train_loader)\n",
    "samples, labels = examples.next()\n",
    "\n",
    "# Visualize samples\n",
    "for i in range(6):\n",
    "    plt.subplot(2, 3, i+1)\n",
    "    plt.imshow(samples[i][0], cmap='gray')\n",
    "plt.show()"
   ]
  },
  {
   "cell_type": "code",
   "execution_count": 13,
   "id": "08b232f8",
   "metadata": {},
   "outputs": [],
   "source": [
    "# Build model!\n",
    "class NeuralNetwork(nn.Module):\n",
    "    def __init__(self, input_size, hidden_size, num_classes):\n",
    "        super(NeuralNetwork, self).__init__()\n",
    "        self.linear1 = nn.Linear(input_size, hidden_size)\n",
    "        self.l_relu = nn.LeakyReLU()\n",
    "        self.linear2 = nn.Linear(hidden_size, num_classes)\n",
    "        \n",
    "    def forward(self, x):\n",
    "        out = self.linear1(x)\n",
    "        out = self.l_relu(out)\n",
    "        out = self.linear2(out)\n",
    "        return out"
   ]
  },
  {
   "cell_type": "code",
   "execution_count": 14,
   "id": "c8c9e0f4",
   "metadata": {},
   "outputs": [],
   "source": [
    "# Initialize model\n",
    "model = NeuralNetwork(input_size, hidden_size, num_classes)\n",
    "\n",
    "# Loss and optimizer\n",
    "criterion = nn.CrossEntropyLoss()\n",
    "optimizer = torch.optim.Adam(model.parameters(), lr=learning_rate)"
   ]
  },
  {
   "cell_type": "code",
   "execution_count": 18,
   "id": "da3ce9c0",
   "metadata": {},
   "outputs": [
    {
     "name": "stdout",
     "output_type": "stream",
     "text": [
      "Epoch: 1/15, Step: 600/600, Loss: 0.0190\n",
      "Epoch: 2/15, Step: 600/600, Loss: 0.0114\n",
      "Epoch: 3/15, Step: 600/600, Loss: 0.0150\n",
      "Epoch: 4/15, Step: 600/600, Loss: 0.0026\n",
      "Epoch: 5/15, Step: 600/600, Loss: 0.0106\n",
      "Epoch: 6/15, Step: 600/600, Loss: 0.0107\n",
      "Epoch: 7/15, Step: 600/600, Loss: 0.0077\n",
      "Epoch: 8/15, Step: 600/600, Loss: 0.0059\n",
      "Epoch: 9/15, Step: 600/600, Loss: 0.0035\n",
      "Epoch: 10/15, Step: 600/600, Loss: 0.0038\n",
      "Epoch: 11/15, Step: 600/600, Loss: 0.0033\n",
      "Epoch: 12/15, Step: 600/600, Loss: 0.0038\n",
      "Epoch: 13/15, Step: 600/600, Loss: 0.0098\n",
      "Epoch: 14/15, Step: 600/600, Loss: 0.0039\n",
      "Epoch: 15/15, Step: 600/600, Loss: 0.0023\n"
     ]
    }
   ],
   "source": [
    "# Training loop\n",
    "n_total_steps = len(train_loader)\n",
    "\n",
    "for epoch in range(epochs):\n",
    "    for i, (images, labels) in enumerate(train_loader):\n",
    "        # Reshape! (100, 1, 28, 28) to (100, 784)\n",
    "        images = images.reshape(-1, 28*28).to(device)\n",
    "        labels = labels.to(device)\n",
    "        \n",
    "        # Forward pass and compute the loss.\n",
    "        outputs = model(images)\n",
    "        loss = criterion(outputs, labels)\n",
    "        \n",
    "        # Backward pass : Calculate gradients and update weights with optimizers.\n",
    "        optimizer.zero_grad()\n",
    "        loss.backward()\n",
    "        optimizer.step()\n",
    "        \n",
    "        # Print some info(per epoch) as we train\n",
    "        if (i+1) % 600 == 0:\n",
    "            print(f'Epoch: {epoch+1}/{epochs}, Step: {i+1}/{n_total_steps}, Loss: {loss.item():.4f}')"
   ]
  },
  {
   "cell_type": "code",
   "execution_count": 17,
   "id": "ab685b30",
   "metadata": {},
   "outputs": [
    {
     "name": "stdout",
     "output_type": "stream",
     "text": [
      "Accuracy: 97.83% ~ 98%\n"
     ]
    }
   ],
   "source": [
    "# Model evaluation            \n",
    "with torch.no_grad():\n",
    "    n_samples = 0\n",
    "    n_correct = 0\n",
    "    for images, labels in test_loader:\n",
    "        images = images.reshape(-1, 784).to(device)\n",
    "        labels = labels.to(device)\n",
    "        \n",
    "        outputs = model(images)\n",
    "        \n",
    "        _, predictions = torch.max(outputs, 1)\n",
    "        n_samples += labels.shape[0]\n",
    "        n_correct += (predictions == labels).sum().item()\n",
    "        \n",
    "    acc = 100.00 * (n_correct/n_samples)\n",
    "    \n",
    "print(f'Accuracy: {acc:.2f}% ~ {round(acc)}%')    "
   ]
  },
  {
   "cell_type": "code",
   "execution_count": 19,
   "id": "917a0ac6",
   "metadata": {},
   "outputs": [],
   "source": [
    "# ifunanyaScript"
   ]
  }
 ],
 "metadata": {
  "kernelspec": {
   "display_name": "Python 3",
   "language": "python",
   "name": "python3"
  },
  "language_info": {
   "codemirror_mode": {
    "name": "ipython",
    "version": 3
   },
   "file_extension": ".py",
   "mimetype": "text/x-python",
   "name": "python",
   "nbconvert_exporter": "python",
   "pygments_lexer": "ipython3",
   "version": "3.8.8"
  }
 },
 "nbformat": 4,
 "nbformat_minor": 5
}
